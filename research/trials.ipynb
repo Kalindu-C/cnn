{
 "cells": [
  {
   "cell_type": "code",
   "execution_count": 1,
   "id": "a412b714",
   "metadata": {},
   "outputs": [
    {
     "name": "stdout",
     "output_type": "stream",
     "text": [
      "Hello World\n"
     ]
    }
   ],
   "source": [
    "print(\"Hello World\")"
   ]
  },
  {
   "cell_type": "code",
   "execution_count": 4,
   "id": "973520d7",
   "metadata": {},
   "outputs": [],
   "source": [
    "import gdown"
   ]
  },
  {
   "cell_type": "code",
   "execution_count": null,
   "id": "a3d287de",
   "metadata": {},
   "outputs": [],
   "source": [
    "url = \"https://drive.google.com/file/d/19sxmaN_6-_lT3RGQIzy3Jo0Z-auA43AV/view?usp=sharing\""
   ]
  },
  {
   "cell_type": "code",
   "execution_count": 3,
   "id": "32334c09",
   "metadata": {},
   "outputs": [
    {
     "data": {
      "text/plain": [
       "'19sxmaN_6-_lT3RGQIzy3Jo0Z-auA43AV'"
      ]
     },
     "execution_count": 3,
     "metadata": {},
     "output_type": "execute_result"
    }
   ],
   "source": [
    "file_id = url.split(\"/\")[-2]  # Extracting the file ID from the URL\n",
    "file_id"
   ]
  },
  {
   "cell_type": "code",
   "execution_count": 5,
   "id": "89cfa2c2",
   "metadata": {},
   "outputs": [
    {
     "name": "stderr",
     "output_type": "stream",
     "text": [
      "Downloading...\n",
      "From (original): https://drive.google.com/uc?/export=download&id=19sxmaN_6-_lT3RGQIzy3Jo0Z-auA43AV\n",
      "From (redirected): https://drive.google.com/uc?%2Fexport=download&id=19sxmaN_6-_lT3RGQIzy3Jo0Z-auA43AV&confirm=t&uuid=21fffe34-8ddc-48bb-a9ba-d8dd2ed38ac7\n",
      "To: d:\\MyProjects\\deep_learning\\cnn\\research\\cnn_chest_data\n",
      "100%|██████████| 49.0M/49.0M [00:50<00:00, 977kB/s] \n"
     ]
    },
    {
     "data": {
      "text/plain": [
       "'cnn_chest_data'"
      ]
     },
     "execution_count": 5,
     "metadata": {},
     "output_type": "execute_result"
    }
   ],
   "source": [
    "prefix = 'https://drive.google.com/uc?/export=download&id='\n",
    "gdown.download(prefix + file_id, 'cnn_chest_data', quiet=False)"
   ]
  },
  {
   "cell_type": "code",
   "execution_count": null,
   "id": "4105daae",
   "metadata": {},
   "outputs": [],
   "source": []
  }
 ],
 "metadata": {
  "kernelspec": {
   "display_name": "cnn (3.11.9)",
   "language": "python",
   "name": "python3"
  },
  "language_info": {
   "codemirror_mode": {
    "name": "ipython",
    "version": 3
   },
   "file_extension": ".py",
   "mimetype": "text/x-python",
   "name": "python",
   "nbconvert_exporter": "python",
   "pygments_lexer": "ipython3",
   "version": "3.11.9"
  }
 },
 "nbformat": 4,
 "nbformat_minor": 5
}
